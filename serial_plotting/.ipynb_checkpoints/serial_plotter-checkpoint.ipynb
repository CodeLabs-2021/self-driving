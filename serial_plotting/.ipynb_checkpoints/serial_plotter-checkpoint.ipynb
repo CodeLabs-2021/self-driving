{
 "cells": [
  {
   "cell_type": "code",
   "execution_count": 1,
   "metadata": {},
   "outputs": [],
   "source": [
    "import serial"
   ]
  },
  {
   "cell_type": "code",
   "execution_count": 7,
   "metadata": {},
   "outputs": [
    {
     "data": {
      "application/vnd.jupyter.widget-view+json": {
       "model_id": "16ea6ab2fab5466e88345ec868e8ca34",
       "version_major": 2,
       "version_minor": 0
      },
      "text/plain": [
       "Canvas(toolbar=Toolbar(toolitems=[('Home', 'Reset original view', 'home', 'home'), ('Back', 'Back to previous …"
      ]
     },
     "metadata": {},
     "output_type": "display_data"
    },
    {
     "data": {
      "application/vnd.jupyter.widget-view+json": {
       "model_id": "0fe01092da9d445f95ef12eb13c425fe",
       "version_major": 2,
       "version_minor": 0
      },
      "text/plain": [
       "Canvas(toolbar=Toolbar(toolitems=[('Home', 'Reset original view', 'home', 'home'), ('Back', 'Back to previous …"
      ]
     },
     "metadata": {},
     "output_type": "display_data"
    }
   ],
   "source": [
    "# %matplotlib notebook\n",
    "# %matplotlib widget\n",
    "# %matplotlib inline\n",
    "\n",
    "# run this in a Jupyter (IPython) Notebook!\n",
    "# modified from http://www.lebsanft.org/?p=48\n",
    "# http://pyserial.readthedocs.org/en/latest/pyserial_api.html\n",
    "import serial\n",
    "import numpy as np\n",
    "from matplotlib import pyplot as plt\n",
    "from time import time\n",
    "\n",
    "# If you're not using Linux, you'll need to change this\n",
    "# check the Arduino IDE to see what serial port it's attached to\n",
    "ser = serial.Serial(\"/dev/tty.usbmodem14101\", 115200)\n",
    "\n",
    "# set plot to animated\n",
    "plt.ion() \n",
    "\n",
    "start_time = time()\n",
    "timepoints = []\n",
    "ydata = []\n",
    "yrange = [-0.1,5.1]\n",
    "view_time = 4 # seconds of data to view at once\n",
    "duration = 24 # total seconds to collect data\n",
    "\n",
    "fig1 = plt.figure()\n",
    "# http://matplotlib.org/users/text_props.html\n",
    "fig1.suptitle('live updated data', fontsize='18', fontweight='bold')\n",
    "plt.xlabel('time, seconds', fontsize='14', fontstyle='italic')\n",
    "plt.ylabel('potential, volts', fontsize='14', fontstyle='italic')\n",
    "plt.axes().grid(True)\n",
    "line1, = plt.plot(ydata,marker='o',markersize=4,linestyle='none',markerfacecolor='red')\n",
    "plt.ylim(yrange)\n",
    "plt.xlim([0,view_time])\n",
    "\n",
    "# flush any junk left in the serial buffer\n",
    "ser.flushInput()\n",
    "# ser.reset_input_buffer() # for pyserial 3.0+\n",
    "run = True\n",
    "\n",
    "# collect the data and plot a moving frame\n",
    "while run:\n",
    "    ser.reset_input_buffer()\n",
    "    data = ser.readline().split(b' ')\n",
    "    \n",
    "    # sometimes the incoming data is garbage, so just 'try' to do this\n",
    "    try:\n",
    "        # store the entire dataset for later\n",
    "        ydata.append(float(data[0])*5.0/1024)\n",
    "        timepoints.append(time()-start_time)\n",
    "        current_time = timepoints[-1]\n",
    "        \n",
    "        # update the plotted data\n",
    "        line1.set_xdata(timepoints)\n",
    "        line1.set_ydata(ydata)\n",
    "        \n",
    "        # slide the viewing frame along\n",
    "        if current_time > view_time:\n",
    "            plt.xlim([current_time-view_time,current_time])\n",
    "            \n",
    "        # when time's up, kill the collect+plot loop\n",
    "        if timepoints[-1] > duration: run=False\n",
    "    \n",
    "    # if the try statement throws an error, just do nothing\n",
    "    except: pass\n",
    "    \n",
    "    # update the plot\n",
    "    fig1.canvas.draw()\n",
    "\n",
    "# plot all of the data you collected\n",
    "fig2 = plt.figure()\n",
    "# http://matplotlib.org/users/text_props.html\n",
    "fig2.suptitle('complete data trace', fontsize='18', fontweight='bold')\n",
    "plt.xlabel('time, seconds', fontsize='14', fontstyle='italic')\n",
    "plt.ylabel('potential, volts', fontsize='14', fontstyle='italic')\n",
    "plt.axes().grid(True)\n",
    "\n",
    "plt.plot(timepoints, ydata,marker='o',markersize=4,linestyle='none',markerfacecolor='red')\n",
    "plt.ylim(yrange)\n",
    "fig2.show()\n",
    "\n",
    "ser.close()"
   ]
  },
  {
   "cell_type": "code",
   "execution_count": 5,
   "metadata": {},
   "outputs": [
    {
     "name": "stdout",
     "output_type": "stream",
     "text": [
      "\n",
      "Please wait a moment while I gather a list of all available modules...\n",
      "\n"
     ]
    },
    {
     "name": "stderr",
     "output_type": "stream",
     "text": [
      "/Users/nirvanabear/.local/share/virtualenvs/Programs-yEAyCHKM/lib/python3.9/site-packages/IPython/kernel/__init__.py:12: ShimWarning: The `IPython.kernel` package has been deprecated since IPython 4.0.You should import from ipykernel or jupyter_client instead.\n",
      "  warn(\"The `IPython.kernel` package has been deprecated since IPython 4.0.\"\n",
      "/usr/local/Cellar/python@3.9/3.9.4/Frameworks/Python.framework/Versions/3.9/lib/python3.9/pkgutil.py:93: MatplotlibDeprecationWarning: \n",
      "The matplotlib.compat module was deprecated in Matplotlib 3.3 and will be removed two minor releases later.\n",
      "  __import__(info.name)\n"
     ]
    },
    {
     "name": "stdout",
     "output_type": "stream",
     "text": [
      "IPython             _zoneinfo           importlib           reprlib\n",
      "PIL                 abc                 inspect             resource\n",
      "RealTimeSerialPlot  aifc                io                  rlcompleter\n",
      "__future__          antigravity         ipaddress           rmagic\n",
      "_abc                appnope             ipykernel           runpy\n",
      "_aix_support        argon2              ipykernel_launcher  sched\n",
      "_ast                argparse            ipympl              secrets\n",
      "_asyncio            array               ipython_genutils    select\n",
      "_bisect             ast                 ipywidgets          selectors\n",
      "_blake2             async_generator     itertools           send2trash\n",
      "_bootlocale         asynchat            jedi                serial\n",
      "_bootsubprocess     asyncio             jinja2              setuptools\n",
      "_bz2                asyncore            json                shelve\n",
      "_cffi_backend       atexit              jsonschema          shlex\n",
      "_codecs             attr                jupyter             shutil\n",
      "_codecs_cn          audioop             jupyter_client      signal\n",
      "_codecs_hk          autoreload          jupyter_core        site\n",
      "_codecs_iso2022     backcall            jupyterlab_pygments sitecustomize\n",
      "_codecs_jp          base64              jupyterlab_widgets  six\n",
      "_codecs_kr          bdb                 keyword             smtpd\n",
      "_codecs_tw          binascii            kiwisolver          smtplib\n",
      "_collections        binhex              lib2to3             sndhdr\n",
      "_collections_abc    bisect              linecache           socket\n",
      "_compat_pickle      bleach              locale              socketserver\n",
      "_compression        builtins            logging             sqlite3\n",
      "_contextvars        bz2                 lzma                sre_compile\n",
      "_crypt              cProfile            mailbox             sre_constants\n",
      "_csv                calendar            mailcap             sre_parse\n",
      "_ctypes             cffi                markupsafe          ssl\n",
      "_ctypes_test        cgi                 marshal             stat\n",
      "_curses             cgitb               math                statistics\n",
      "_curses_panel       chunk               matplotlib          storemagic\n",
      "_datetime           cmath               matplotlib_inline   string\n",
      "_dbm                cmd                 mimetypes           stringprep\n",
      "_decimal            code                mistune             struct\n",
      "_distutils_hack     codecs              mmap                subprocess\n",
      "_elementtree        codeop              modulefinder        sunau\n",
      "_functools          collections         multiprocessing     symbol\n",
      "_gdbm               colorsys            nbclient            sympyprinting\n",
      "_hashlib            compileall          nbconvert           symtable\n",
      "_heapq              concurrent          nbformat            sys\n",
      "_imp                configparser        nest_asyncio        sysconfig\n",
      "_io                 contextlib          netrc               syslog\n",
      "_json               contextvars         nis                 tabnanny\n",
      "_locale             copy                nntplib             tarfile\n",
      "_lsprof             copyreg             notebook            telnetlib\n",
      "_lzma               crypt               ntpath              tempfile\n",
      "_markupbase         csv                 nturl2path          terminado\n",
      "_md5                ctypes              numbers             termios\n",
      "_multibytecodec     curses              numpy               test\n",
      "_multiprocessing    cycler              opcode              testpath\n",
      "_opcode             cythonmagic         operator            tests\n",
      "_operator           dataclasses         optparse            textwrap\n",
      "_osx_support        datetime            os                  this\n",
      "_peg_parser         dateutil            packaging           threading\n",
      "_pickle             dbm                 pandocfilters       time\n",
      "_posixshmem         debugpy             parser              timeit\n",
      "_posixsubprocess    decimal             parso               tkinter\n",
      "_py_abc             decorator           pathlib             token\n",
      "_pydecimal          defusedxml          pdb                 tokenize\n",
      "_pyio               difflib             pexpect             tornado\n",
      "_pyrsistent_version dis                 pickle              trace\n",
      "_queue              distutils           pickleshare         traceback\n",
      "_random             doctest             pickletools         tracemalloc\n",
      "_scproxy            email               pip                 traitlets\n",
      "_sha1               encodings           pipes               tty\n",
      "_sha256             ensurepip           pkg_resources       turtle\n",
      "_sha3               entrypoints         pkgutil             turtledemo\n",
      "_sha512             enum                platform            types\n",
      "_signal             errno               plistlib            typing\n",
      "_sitebuiltins       faulthandler        poplib              unicodedata\n",
      "_socket             fcntl               posix               unittest\n",
      "_sqlite3            filecmp             posixpath           urllib\n",
      "_sre                fileinput           pprint              uu\n",
      "_ssl                fnmatch             profile             uuid\n",
      "_stat               formatter           prometheus_client   venv\n",
      "_statistics         fractions           prompt_toolkit      warnings\n",
      "_string             ftplib              pstats              wave\n",
      "_strptime           functools           pty                 wcwidth\n",
      "_struct             gc                  ptyprocess          weakref\n",
      "_symtable           genericpath         pvectorc            webbrowser\n",
      "_sysconfigdata__darwin_darwin getopt              pwd                 webencodings\n",
      "_testbuffer         getpass             py_compile          wheel\n",
      "_testcapi           gettext             pyclbr              widgetsnbextension\n",
      "_testimportmultiple glob                pycparser           wsgiref\n",
      "_testinternalcapi   graphlib            pydoc               xdrlib\n",
      "_testmultiphase     grp                 pydoc_data          xml\n",
      "_thread             gzip                pyexpat             xmlrpc\n",
      "_threading_local    hashlib             pygments            xxlimited\n",
      "_tracemalloc        heapq               pylab               xxsubtype\n",
      "_uuid               hmac                pyparsing           zipapp\n",
      "_virtualenv         html                pyrsistent          zipfile\n",
      "_warnings           http                queue               zipimport\n",
      "_weakref            idlelib             quopri              zlib\n",
      "_weakrefset         imaplib             random              zmq\n",
      "_xxsubinterpreters  imghdr              re                  zoneinfo\n",
      "_xxtestfuzz         imp                 readline            \n",
      "\n",
      "Enter any module name to get more help.  Or, type \"modules spam\" to search\n",
      "for modules whose name or summary contain the string \"spam\".\n",
      "\n"
     ]
    },
    {
     "name": "stderr",
     "output_type": "stream",
     "text": [
      "/usr/local/Cellar/python@3.9/3.9.4/Frameworks/Python.framework/Versions/3.9/lib/python3.9/pkgutil.py:108: VisibleDeprecationWarning: zmq.eventloop.minitornado is deprecated in pyzmq 14.0 and will be removed.\n",
      "    Install tornado itself to use zmq with the tornado IOLoop.\n",
      "    \n",
      "  yield from walk_packages(path, info.name+'.', onerror)\n"
     ]
    }
   ],
   "source": [
    "help(\"modules\")"
   ]
  },
  {
   "cell_type": "code",
   "execution_count": null,
   "metadata": {},
   "outputs": [],
   "source": []
  }
 ],
 "metadata": {
  "kernelspec": {
   "display_name": "Robot",
   "language": "python",
   "name": "programs-yeaychkm"
  },
  "language_info": {
   "codemirror_mode": {
    "name": "ipython",
    "version": 3
   },
   "file_extension": ".py",
   "mimetype": "text/x-python",
   "name": "python",
   "nbconvert_exporter": "python",
   "pygments_lexer": "ipython3",
   "version": "3.9.4"
  }
 },
 "nbformat": 4,
 "nbformat_minor": 4
}
